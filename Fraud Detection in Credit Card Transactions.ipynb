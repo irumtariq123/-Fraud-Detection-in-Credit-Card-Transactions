{
 "cells": [
  {
   "cell_type": "markdown",
   "id": "b5f2b29f",
   "metadata": {},
   "source": [
    "# Data Understanding and Preprocessing"
   ]
  },
  {
   "cell_type": "markdown",
   "id": "c0db6f82",
   "metadata": {},
   "source": [
    "# data exploration"
   ]
  },
  {
   "cell_type": "code",
   "execution_count": 1,
   "id": "f1841a57",
   "metadata": {},
   "outputs": [
    {
     "data": {
      "text/html": [
       "<div>\n",
       "<style scoped>\n",
       "    .dataframe tbody tr th:only-of-type {\n",
       "        vertical-align: middle;\n",
       "    }\n",
       "\n",
       "    .dataframe tbody tr th {\n",
       "        vertical-align: top;\n",
       "    }\n",
       "\n",
       "    .dataframe thead th {\n",
       "        text-align: right;\n",
       "    }\n",
       "</style>\n",
       "<table border=\"1\" class=\"dataframe\">\n",
       "  <thead>\n",
       "    <tr style=\"text-align: right;\">\n",
       "      <th></th>\n",
       "      <th>Transaction ID</th>\n",
       "      <th>Customer ID</th>\n",
       "      <th>Transaction Date</th>\n",
       "      <th>Transaction Amount</th>\n",
       "      <th>Merchant</th>\n",
       "      <th>Location</th>\n",
       "      <th>Transaction Type</th>\n",
       "      <th>Card Type</th>\n",
       "      <th>Is Fraudulent</th>\n",
       "    </tr>\n",
       "  </thead>\n",
       "  <tbody>\n",
       "    <tr>\n",
       "      <th>0</th>\n",
       "      <td>90023589-2ef8-43e7-807a-b4ab92fcc2a4</td>\n",
       "      <td>5d7358c2-ede9-488a-96e4-fa78a9d9d6db</td>\n",
       "      <td>2024-03-05 15:53:49</td>\n",
       "      <td>231.55</td>\n",
       "      <td>Torres-Sanchez</td>\n",
       "      <td>West Adam</td>\n",
       "      <td>Online Purchase</td>\n",
       "      <td>MasterCard</td>\n",
       "      <td>Yes</td>\n",
       "    </tr>\n",
       "    <tr>\n",
       "      <th>1</th>\n",
       "      <td>3eb2e762-9525-4c33-a022-a47e3da3ec5d</td>\n",
       "      <td>0aac2ab4-f920-428a-939a-78ff9858c13d</td>\n",
       "      <td>2024-07-04 01:00:25</td>\n",
       "      <td>1485.69</td>\n",
       "      <td>Brandt, Ross and Butler</td>\n",
       "      <td>New Benjaminbury</td>\n",
       "      <td>In-Store Purchase</td>\n",
       "      <td>Discover</td>\n",
       "      <td>Yes</td>\n",
       "    </tr>\n",
       "    <tr>\n",
       "      <th>2</th>\n",
       "      <td>12d58e99-92d7-46f3-8ac0-e01ac86c15ec</td>\n",
       "      <td>4d6ee059-5df1-4323-8484-2f04aae3d6b3</td>\n",
       "      <td>2024-01-14 00:18:53</td>\n",
       "      <td>497.33</td>\n",
       "      <td>Delgado LLC</td>\n",
       "      <td>Lake Jamieberg</td>\n",
       "      <td>ATM Withdrawal</td>\n",
       "      <td>Amex</td>\n",
       "      <td>Yes</td>\n",
       "    </tr>\n",
       "    <tr>\n",
       "      <th>3</th>\n",
       "      <td>e9cac917-d336-4629-9baa-f8c19691cb80</td>\n",
       "      <td>d7709d08-fa3c-419c-b2fb-bc9ef2997ef9</td>\n",
       "      <td>2023-12-09 03:06:54</td>\n",
       "      <td>287.68</td>\n",
       "      <td>Smith, Mcdonald and Cruz</td>\n",
       "      <td>Lake James</td>\n",
       "      <td>In-Store Purchase</td>\n",
       "      <td>Visa</td>\n",
       "      <td>Yes</td>\n",
       "    </tr>\n",
       "    <tr>\n",
       "      <th>4</th>\n",
       "      <td>acb39efa-d3c7-4bae-9b6c-9cda5ed79503</td>\n",
       "      <td>e505e3e6-7982-4c7f-b0b1-26a0b6d59d31</td>\n",
       "      <td>2024-02-17 03:22:55</td>\n",
       "      <td>213.97</td>\n",
       "      <td>Huff Ltd</td>\n",
       "      <td>Lake Anthony</td>\n",
       "      <td>In-Store Purchase</td>\n",
       "      <td>Discover</td>\n",
       "      <td>No</td>\n",
       "    </tr>\n",
       "  </tbody>\n",
       "</table>\n",
       "</div>"
      ],
      "text/plain": [
       "                         Transaction ID                           Customer ID  \\\n",
       "0  90023589-2ef8-43e7-807a-b4ab92fcc2a4  5d7358c2-ede9-488a-96e4-fa78a9d9d6db   \n",
       "1  3eb2e762-9525-4c33-a022-a47e3da3ec5d  0aac2ab4-f920-428a-939a-78ff9858c13d   \n",
       "2  12d58e99-92d7-46f3-8ac0-e01ac86c15ec  4d6ee059-5df1-4323-8484-2f04aae3d6b3   \n",
       "3  e9cac917-d336-4629-9baa-f8c19691cb80  d7709d08-fa3c-419c-b2fb-bc9ef2997ef9   \n",
       "4  acb39efa-d3c7-4bae-9b6c-9cda5ed79503  e505e3e6-7982-4c7f-b0b1-26a0b6d59d31   \n",
       "\n",
       "      Transaction Date  Transaction Amount                  Merchant  \\\n",
       "0  2024-03-05 15:53:49              231.55            Torres-Sanchez   \n",
       "1  2024-07-04 01:00:25             1485.69   Brandt, Ross and Butler   \n",
       "2  2024-01-14 00:18:53              497.33               Delgado LLC   \n",
       "3  2023-12-09 03:06:54              287.68  Smith, Mcdonald and Cruz   \n",
       "4  2024-02-17 03:22:55              213.97                  Huff Ltd   \n",
       "\n",
       "           Location   Transaction Type   Card Type Is Fraudulent  \n",
       "0         West Adam    Online Purchase  MasterCard           Yes  \n",
       "1  New Benjaminbury  In-Store Purchase    Discover           Yes  \n",
       "2    Lake Jamieberg     ATM Withdrawal        Amex           Yes  \n",
       "3        Lake James  In-Store Purchase        Visa           Yes  \n",
       "4      Lake Anthony  In-Store Purchase    Discover            No  "
      ]
     },
     "execution_count": 1,
     "metadata": {},
     "output_type": "execute_result"
    }
   ],
   "source": [
    "import pandas as pd\n",
    "\n",
    "# Load the dataset to analyze its contents\n",
    "dataset = pd.read_csv('fraud_detection_data.csv')\n",
    "\n",
    "# Display the first few rows of the dataset for analysis\n",
    "dataset.head()\n"
   ]
  },
  {
   "cell_type": "code",
   "execution_count": 2,
   "id": "b47344ba",
   "metadata": {},
   "outputs": [],
   "source": [
    "import warnings\n",
    "warnings.filterwarnings('ignore')\n",
    "warnings.filterwarnings('ignore', category=DeprecationWarning)\n"
   ]
  },
  {
   "cell_type": "code",
   "execution_count": 3,
   "id": "4e5e56e7",
   "metadata": {},
   "outputs": [
    {
     "name": "stdout",
     "output_type": "stream",
     "text": [
      "Yes    183\n",
      "No     180\n",
      "Name: Is Fraudulent, dtype: int64\n"
     ]
    }
   ],
   "source": [
    "# Check the distribution of fraudulent vs. legitimate transactions\n",
    "fraud_distribution = dataset['Is Fraudulent'].value_counts()\n",
    "print(fraud_distribution)"
   ]
  },
  {
   "cell_type": "markdown",
   "id": "a707e016",
   "metadata": {},
   "source": [
    "# Handle any missing or inconsistent data"
   ]
  },
  {
   "cell_type": "code",
   "execution_count": 4,
   "id": "9e224724",
   "metadata": {},
   "outputs": [
    {
     "name": "stdout",
     "output_type": "stream",
     "text": [
      "Transaction ID        0\n",
      "Customer ID           0\n",
      "Transaction Date      0\n",
      "Transaction Amount    0\n",
      "Merchant              0\n",
      "Location              0\n",
      "Transaction Type      0\n",
      "Card Type             0\n",
      "Is Fraudulent         0\n",
      "dtype: int64\n"
     ]
    }
   ],
   "source": [
    "import warnings\n",
    "# Check for missing or inconsistent data\n",
    "missing_data = dataset.isnull().sum()\n",
    "print(missing_data)\n",
    "\n",
    "# Handling missing data (example: filling missing values with median)\n",
    "dataset.fillna(dataset.median(), inplace=True)\n",
    "warnings.filterwarnings('ignore')\n",
    "warnings.filterwarnings('ignore', category=DeprecationWarning)"
   ]
  },
  {
   "cell_type": "markdown",
   "id": "975fa085",
   "metadata": {},
   "source": [
    "# Convert categorical variables into numerical representations"
   ]
  },
  {
   "cell_type": "code",
   "execution_count": 5,
   "id": "51a26481",
   "metadata": {},
   "outputs": [
    {
     "name": "stdout",
     "output_type": "stream",
     "text": [
      "                         Transaction ID                           Customer ID  \\\n",
      "0  90023589-2ef8-43e7-807a-b4ab92fcc2a4  5d7358c2-ede9-488a-96e4-fa78a9d9d6db   \n",
      "1  3eb2e762-9525-4c33-a022-a47e3da3ec5d  0aac2ab4-f920-428a-939a-78ff9858c13d   \n",
      "2  12d58e99-92d7-46f3-8ac0-e01ac86c15ec  4d6ee059-5df1-4323-8484-2f04aae3d6b3   \n",
      "3  e9cac917-d336-4629-9baa-f8c19691cb80  d7709d08-fa3c-419c-b2fb-bc9ef2997ef9   \n",
      "4  acb39efa-d3c7-4bae-9b6c-9cda5ed79503  e505e3e6-7982-4c7f-b0b1-26a0b6d59d31   \n",
      "\n",
      "      Transaction Date  Transaction Amount Is Fraudulent  \\\n",
      "0  2024-03-05 15:53:49              231.55           Yes   \n",
      "1  2024-07-04 01:00:25             1485.69           Yes   \n",
      "2  2024-01-14 00:18:53              497.33           Yes   \n",
      "3  2023-12-09 03:06:54              287.68           Yes   \n",
      "4  2024-02-17 03:22:55              213.97            No   \n",
      "\n",
      "   Merchant_Adams-Gutierrez  Merchant_Adkins, Figueroa and Parker  \\\n",
      "0                         0                                     0   \n",
      "1                         0                                     0   \n",
      "2                         0                                     0   \n",
      "3                         0                                     0   \n",
      "4                         0                                     0   \n",
      "\n",
      "   Merchant_Allen Ltd  Merchant_Allen, Dean and Cortez  \\\n",
      "0                   0                                0   \n",
      "1                   0                                0   \n",
      "2                   0                                0   \n",
      "3                   0                                0   \n",
      "4                   0                                0   \n",
      "\n",
      "   Merchant_Anderson Group  ...  Location_West Sheri  Location_Williamsland  \\\n",
      "0                        0  ...                    0                      0   \n",
      "1                        0  ...                    0                      0   \n",
      "2                        0  ...                    0                      0   \n",
      "3                        0  ...                    0                      0   \n",
      "4                        0  ...                    0                      0   \n",
      "\n",
      "   Location_Williamsville  Location_Wrightmouth  Location_Youngfurt  \\\n",
      "0                       0                     0                   0   \n",
      "1                       0                     0                   0   \n",
      "2                       0                     0                   0   \n",
      "3                       0                     0                   0   \n",
      "4                       0                     0                   0   \n",
      "\n",
      "   Transaction Type_In-Store Purchase  Transaction Type_Online Purchase  \\\n",
      "0                                   0                                 1   \n",
      "1                                   1                                 0   \n",
      "2                                   0                                 0   \n",
      "3                                   1                                 0   \n",
      "4                                   1                                 0   \n",
      "\n",
      "   Card Type_Discover  Card Type_MasterCard  Card Type_Visa  \n",
      "0                   0                     1               0  \n",
      "1                   1                     0               0  \n",
      "2                   0                     0               0  \n",
      "3                   0                     0               1  \n",
      "4                   1                     0               0  \n",
      "\n",
      "[5 rows x 724 columns]\n"
     ]
    }
   ],
   "source": [
    "# Convert categorical columns to numerical using one-hot encoding\n",
    "dataset_encoded = pd.get_dummies(dataset, columns=['Merchant', 'Location', 'Transaction Type', 'Card Type'], drop_first=True)\n",
    "\n",
    "# Display the first few rows of the newly encoded dataset\n",
    "print(dataset_encoded.head())\n"
   ]
  },
  {
   "cell_type": "markdown",
   "id": "743eafe3",
   "metadata": {},
   "source": [
    "# Balance the dataset"
   ]
  },
  {
   "cell_type": "code",
   "execution_count": 6,
   "id": "74257b8a",
   "metadata": {},
   "outputs": [
    {
     "name": "stdout",
     "output_type": "stream",
     "text": [
      "Non-numeric columns: Index(['Transaction ID', 'Customer ID', 'Transaction Date'], dtype='object')\n",
      "1    183\n",
      "0    183\n",
      "Name: Is Fraudulent, dtype: int64\n"
     ]
    }
   ],
   "source": [
    "# Import SMOTE\n",
    "from imblearn.over_sampling import SMOTE\n",
    "from sklearn.preprocessing import LabelEncoder\n",
    "import pandas as pd\n",
    "\n",
    "# Assume dataset_encoded is already defined\n",
    "\n",
    "# Separate the features and the target variable\n",
    "X = dataset_encoded.drop('Is Fraudulent', axis=1)\n",
    "y = dataset_encoded['Is Fraudulent'].apply(lambda x: 1 if x == 'Yes' else 0)  # Convert 'Yes' to 1 and 'No' to 0\n",
    "\n",
    "# Identify columns with non-numeric values\n",
    "non_numeric_cols = X.select_dtypes(include=['object']).columns\n",
    "print(\"Non-numeric columns:\", non_numeric_cols)\n",
    "\n",
    "# Apply Label Encoding to 'Transaction ID' and 'Customer ID'\n",
    "label_encoders = {}\n",
    "for col in ['Transaction ID', 'Customer ID']:\n",
    "    le = LabelEncoder()\n",
    "    X[col] = le.fit_transform(X[col])\n",
    "    label_encoders[col] = le  # Save the encoder for later use\n",
    "\n",
    "# Convert 'Transaction Date' to numerical format (e.g., Unix timestamp or extract features like year/month)\n",
    "X['Transaction Date'] = pd.to_datetime(X['Transaction Date'])\n",
    "X['Transaction Year'] = X['Transaction Date'].dt.year\n",
    "X['Transaction Month'] = X['Transaction Date'].dt.month\n",
    "X['Transaction Day'] = X['Transaction Date'].dt.day\n",
    "X = X.drop('Transaction Date', axis=1)  # Drop the original date column after extracting features\n",
    "\n",
    "# Now apply SMOTE to the numeric data\n",
    "smote = SMOTE(random_state=42)\n",
    "X_resampled, y_resampled = smote.fit_resample(X, y)\n",
    "\n",
    "# Check the distribution after resampling\n",
    "print(y_resampled.value_counts())\n",
    "\n"
   ]
  },
  {
   "cell_type": "markdown",
   "id": "bf3906ec",
   "metadata": {},
   "source": [
    "# Feature Engineering"
   ]
  },
  {
   "cell_type": "code",
   "execution_count": 7,
   "id": "2671d85d",
   "metadata": {},
   "outputs": [
    {
     "name": "stdout",
     "output_type": "stream",
     "text": [
      "                         Transaction ID                           Customer ID  \\\n",
      "0  90023589-2ef8-43e7-807a-b4ab92fcc2a4  5d7358c2-ede9-488a-96e4-fa78a9d9d6db   \n",
      "1  3eb2e762-9525-4c33-a022-a47e3da3ec5d  0aac2ab4-f920-428a-939a-78ff9858c13d   \n",
      "2  12d58e99-92d7-46f3-8ac0-e01ac86c15ec  4d6ee059-5df1-4323-8484-2f04aae3d6b3   \n",
      "3  e9cac917-d336-4629-9baa-f8c19691cb80  d7709d08-fa3c-419c-b2fb-bc9ef2997ef9   \n",
      "4  acb39efa-d3c7-4bae-9b6c-9cda5ed79503  e505e3e6-7982-4c7f-b0b1-26a0b6d59d31   \n",
      "\n",
      "     Transaction Date  Transaction Amount Is Fraudulent  \\\n",
      "0 2024-03-05 15:53:49              231.55           Yes   \n",
      "1 2024-07-04 01:00:25             1485.69           Yes   \n",
      "2 2024-01-14 00:18:53              497.33           Yes   \n",
      "3 2023-12-09 03:06:54              287.68           Yes   \n",
      "4 2024-02-17 03:22:55              213.97            No   \n",
      "\n",
      "   Merchant_Adams-Gutierrez  Merchant_Adkins, Figueroa and Parker  \\\n",
      "0                         0                                     0   \n",
      "1                         0                                     0   \n",
      "2                         0                                     0   \n",
      "3                         0                                     0   \n",
      "4                         0                                     0   \n",
      "\n",
      "   Merchant_Allen Ltd  Merchant_Allen, Dean and Cortez  \\\n",
      "0                   0                                0   \n",
      "1                   0                                0   \n",
      "2                   0                                0   \n",
      "3                   0                                0   \n",
      "4                   0                                0   \n",
      "\n",
      "   Merchant_Anderson Group  ...  Location_Youngfurt  \\\n",
      "0                        0  ...                   0   \n",
      "1                        0  ...                   0   \n",
      "2                        0  ...                   0   \n",
      "3                        0  ...                   0   \n",
      "4                        0  ...                   0   \n",
      "\n",
      "   Transaction Type_In-Store Purchase  Transaction Type_Online Purchase  \\\n",
      "0                                   0                                 1   \n",
      "1                                   1                                 0   \n",
      "2                                   0                                 0   \n",
      "3                                   1                                 0   \n",
      "4                                   1                                 0   \n",
      "\n",
      "   Card Type_Discover  Card Type_MasterCard  Card Type_Visa  \\\n",
      "0                   0                     1               0   \n",
      "1                   1                     0               0   \n",
      "2                   0                     0               0   \n",
      "3                   0                     0               1   \n",
      "4                   1                     0               0   \n",
      "\n",
      "   Transaction Frequency  Avg Transaction Amount  Transaction Hour  \\\n",
      "0                      1                  231.55                15   \n",
      "1                      1                 1485.69                 1   \n",
      "2                      1                  497.33                 0   \n",
      "3                      1                  287.68                 3   \n",
      "4                      1                  213.97                 3   \n",
      "\n",
      "   Amount_Type_Interaction  \n",
      "0                   231.55  \n",
      "1                     0.00  \n",
      "2                     0.00  \n",
      "3                     0.00  \n",
      "4                     0.00  \n",
      "\n",
      "[5 rows x 728 columns]\n"
     ]
    }
   ],
   "source": [
    "# Convert 'Transaction Date' to datetime for easier manipulation\n",
    "dataset_encoded['Transaction Date'] = pd.to_datetime(dataset['Transaction Date'])\n",
    "\n",
    "# 1. Transaction Frequency by Customer\n",
    "# Create a feature for the number of transactions each customer has made\n",
    "transaction_frequency = dataset_encoded.groupby('Customer ID')['Transaction ID'].transform('count')\n",
    "dataset_encoded['Transaction Frequency'] = transaction_frequency\n",
    "\n",
    "# 2. Average Transaction Amount by Customer\n",
    "# Calculate the average transaction amount for each customer\n",
    "average_transaction_amount = dataset_encoded.groupby('Customer ID')['Transaction Amount'].transform('mean')\n",
    "dataset_encoded['Avg Transaction Amount'] = average_transaction_amount\n",
    "\n",
    "# 3. Time of Day\n",
    "# Extract hour from 'Transaction Date' to create a feature for the time of day\n",
    "dataset_encoded['Transaction Hour'] = dataset_encoded['Transaction Date'].dt.hour\n",
    "\n",
    "# 4. Interaction between Features (example: interaction between transaction type and transaction amount)\n",
    "dataset_encoded['Amount_Type_Interaction'] = dataset_encoded['Transaction Amount'] * dataset_encoded['Transaction Type_Online Purchase']\n",
    "\n",
    "# Check the updated dataset\n",
    "print(dataset_encoded.head())\n"
   ]
  },
  {
   "cell_type": "markdown",
   "id": "ac720549",
   "metadata": {},
   "source": [
    "# Model Building"
   ]
  },
  {
   "cell_type": "markdown",
   "id": "ead98c99",
   "metadata": {},
   "source": [
    "# Splitting the Dataset"
   ]
  },
  {
   "cell_type": "code",
   "execution_count": 8,
   "id": "e493a600",
   "metadata": {},
   "outputs": [
    {
     "name": "stdout",
     "output_type": "stream",
     "text": [
      "Training set size: (256, 725)\n",
      "Test set size: (110, 725)\n"
     ]
    }
   ],
   "source": [
    "from sklearn.model_selection import train_test_split\n",
    "\n",
    "# Split the dataset into training and testing sets\n",
    "X_train, X_test, y_train, y_test = train_test_split(X_resampled, y_resampled, test_size=0.3, random_state=42)\n",
    "\n",
    "print(f\"Training set size: {X_train.shape}\")\n",
    "print(f\"Test set size: {X_test.shape}\")\n"
   ]
  },
  {
   "cell_type": "markdown",
   "id": "e2846607",
   "metadata": {},
   "source": [
    "# Train Logistic Regression Model"
   ]
  },
  {
   "cell_type": "raw",
   "id": "db71ad3c",
   "metadata": {},
   "source": [
    "#Metrics: \n",
    "We use classification metrics like precision, recall, and F1-score,with a particular focus on the AUC-ROC, \n",
    "which is crucial for imbalanced datasets."
   ]
  },
  {
   "cell_type": "code",
   "execution_count": 9,
   "id": "d66d8da5",
   "metadata": {},
   "outputs": [
    {
     "name": "stdout",
     "output_type": "stream",
     "text": [
      "Logistic Regression Performance:\n",
      "              precision    recall  f1-score   support\n",
      "\n",
      "           0       0.59      0.48      0.53        56\n",
      "           1       0.55      0.65      0.59        54\n",
      "\n",
      "    accuracy                           0.56       110\n",
      "   macro avg       0.57      0.57      0.56       110\n",
      "weighted avg       0.57      0.56      0.56       110\n",
      "\n",
      "AUC-ROC: 0.5572089947089947\n"
     ]
    }
   ],
   "source": [
    "from sklearn.linear_model import LogisticRegression\n",
    "from sklearn.metrics import classification_report, roc_auc_score\n",
    "\n",
    "# Initialize the model\n",
    "log_reg = LogisticRegression()\n",
    "\n",
    "# Train the model\n",
    "log_reg.fit(X_train, y_train)\n",
    "# Make predictions\n",
    "y_pred_log_reg = log_reg.predict(X_test)\n",
    "\n",
    "# Evaluate the model\n",
    "print(\"Logistic Regression Performance:\")\n",
    "print(classification_report(y_test, y_pred_log_reg))\n",
    "print(f\"AUC-ROC: {roc_auc_score(y_test, log_reg.predict_proba(X_test)[:, 1])}\")\n"
   ]
  },
  {
   "cell_type": "markdown",
   "id": "cd453846",
   "metadata": {},
   "source": [
    "# Train Random Forest Model"
   ]
  },
  {
   "cell_type": "code",
   "execution_count": 10,
   "id": "b22d8a0c",
   "metadata": {},
   "outputs": [
    {
     "name": "stdout",
     "output_type": "stream",
     "text": [
      "Random Forest Performance:\n",
      "              precision    recall  f1-score   support\n",
      "\n",
      "           0       0.57      0.61      0.59        56\n",
      "           1       0.56      0.52      0.54        54\n",
      "\n",
      "    accuracy                           0.56       110\n",
      "   macro avg       0.56      0.56      0.56       110\n",
      "weighted avg       0.56      0.56      0.56       110\n",
      "\n",
      "AUC-ROC: 0.5725859788359787\n"
     ]
    }
   ],
   "source": [
    "from sklearn.ensemble import RandomForestClassifier\n",
    "\n",
    "# Initialize the model\n",
    "rf_clf = RandomForestClassifier(random_state=42)\n",
    "\n",
    "# Train the model\n",
    "rf_clf.fit(X_train, y_train)\n",
    "# Make predictions\n",
    "y_pred_rf = rf_clf.predict(X_test)\n",
    "\n",
    "# Evaluate the model\n",
    "print(\"Random Forest Performance:\")\n",
    "print(classification_report(y_test, y_pred_rf))\n",
    "print(f\"AUC-ROC: {roc_auc_score(y_test, rf_clf.predict_proba(X_test)[:, 1])}\")\n"
   ]
  },
  {
   "cell_type": "markdown",
   "id": "deff4187",
   "metadata": {},
   "source": [
    "# Fraud Detection System Design"
   ]
  },
  {
   "cell_type": "markdown",
   "id": "68c3e4a9",
   "metadata": {},
   "source": [
    "# Real-time Fraud Detection System"
   ]
  },
  {
   "cell_type": "code",
   "execution_count": 11,
   "id": "02fe7ec5",
   "metadata": {},
   "outputs": [
    {
     "name": "stdout",
     "output_type": "stream",
     "text": [
      "Classes in training data: [0]\n",
      "Fraud Prediction: Not Fraud\n",
      "Fraud Probability: 1.0\n"
     ]
    }
   ],
   "source": [
    "import pandas as pd\n",
    "import numpy as np\n",
    "from sklearn.model_selection import train_test_split\n",
    "from sklearn.preprocessing import OneHotEncoder\n",
    "from sklearn.ensemble import RandomForestClassifier\n",
    "from sklearn.preprocessing import StandardScaler\n",
    "\n",
    "# Example dataset for fraud detection (you can replace it with your actual dataset)\n",
    "data = {\n",
    "    'transaction_amount': [100, 1500, 400, 200, 10000],\n",
    "    'transaction_hour': [10, 14, 22, 11, 2],  # Hour of the day (24-hour format)\n",
    "    'transaction_type': ['Online Purchase', 'In-Store Purchase', 'Online Purchase', 'ATM Withdrawal', 'Online Purchase'],\n",
    "    'card_type': ['Visa', 'MasterCard', 'Visa', 'Amex', 'Discover'],\n",
    "    'is_weekend': ['no', 'yes', 'no', 'yes', 'no'],\n",
    "    'is_fraudulent': [0, 1, 0, 0, 1]  # Labels: 1 for fraud, 0 for not fraud\n",
    "}\n",
    "\n",
    "df = pd.DataFrame(data)\n",
    "\n",
    "# --- 1. Preprocessing the dataset ---\n",
    "# Convert categorical variables using OneHotEncoder\n",
    "encoder = OneHotEncoder(drop='first', sparse_output=False)\n",
    "categorical_cols = ['transaction_type', 'card_type', 'is_weekend']\n",
    "encoded_data = encoder.fit_transform(df[categorical_cols])\n",
    "\n",
    "# Convert the encoded columns back to DataFrame\n",
    "encoded_df = pd.DataFrame(encoded_data, columns=encoder.get_feature_names_out(categorical_cols))\n",
    "\n",
    "# Scale the numerical features\n",
    "scaler = StandardScaler()\n",
    "numerical_cols = ['transaction_amount', 'transaction_hour']\n",
    "scaled_data = scaler.fit_transform(df[numerical_cols])\n",
    "\n",
    "# Convert the scaled numerical columns back to DataFrame\n",
    "scaled_df = pd.DataFrame(scaled_data, columns=numerical_cols)\n",
    "\n",
    "# Concatenate the numerical and categorical data\n",
    "processed_df = pd.concat([scaled_df, encoded_df], axis=1)\n",
    "\n",
    "# Define the target variable (is_fraudulent)\n",
    "X = processed_df\n",
    "y = df['is_fraudulent']\n",
    "\n",
    "# --- 2. Train a simple model (Random Forest) ---\n",
    "# Split the data into training and testing sets\n",
    "X_train, X_test, y_train, y_test = train_test_split(X, y, test_size=0.3, random_state=42)\n",
    "\n",
    "# Ensure both classes (0 and 1) are in y_train\n",
    "print(\"Classes in training data:\", np.unique(y_train))  # This ensures that we have both 0 and 1 in y_train\n",
    "\n",
    "# Train the model\n",
    "model = RandomForestClassifier(random_state=42)\n",
    "model.fit(X_train, y_train)\n",
    "\n",
    "# --- 3. Make Predictions for a New Transaction ---\n",
    "# Example: New transaction data\n",
    "new_transaction_features = {\n",
    "    'transaction_amount': [500],\n",
    "    'transaction_hour': [14],\n",
    "    'transaction_type': ['Online Purchase'],\n",
    "    'card_type': ['Visa'],\n",
    "    'is_weekend': ['no']\n",
    "}\n",
    "\n",
    "# Convert the new transaction features to DataFrame\n",
    "new_transaction_df = pd.DataFrame(new_transaction_features)\n",
    "\n",
    "# Apply the same preprocessing steps to the new data\n",
    "# Encode the categorical features\n",
    "new_encoded_data = encoder.transform(new_transaction_df[categorical_cols])\n",
    "new_encoded_df = pd.DataFrame(new_encoded_data, columns=encoder.get_feature_names_out(categorical_cols))\n",
    "\n",
    "# Scale the numerical features\n",
    "new_scaled_data = scaler.transform(new_transaction_df[numerical_cols])\n",
    "new_scaled_df = pd.DataFrame(new_scaled_data, columns=numerical_cols)\n",
    "\n",
    "# Concatenate the numerical and categorical data for the new transaction\n",
    "new_transaction_processed = pd.concat([new_scaled_df, new_encoded_df], axis=1)\n",
    "\n",
    "# Make predictions using the trained model\n",
    "fraud_prediction = model.predict(new_transaction_processed)\n",
    "\n",
    "# Predict probabilities\n",
    "fraud_probability = model.predict_proba(new_transaction_processed)\n",
    "\n",
    "# Check the shape of the predicted probabilities\n",
    "if fraud_probability.shape[1] == 2:  # Check if there are two columns for probabilities\n",
    "    fraud_probability = fraud_probability[:, 1]  # Get probability for fraud class (1)\n",
    "else:\n",
    "    fraud_probability = fraud_probability[:, 0]  # Handle edge case if only one column is present\n",
    "\n",
    "# Output the result\n",
    "print(\"Fraud Prediction:\", \"Fraud\" if fraud_prediction[0] == 1 else \"Not Fraud\")\n",
    "print(\"Fraud Probability:\", fraud_probability[0])\n"
   ]
  },
  {
   "cell_type": "code",
   "execution_count": 12,
   "id": "a7302642",
   "metadata": {},
   "outputs": [
    {
     "name": "stdout",
     "output_type": "stream",
     "text": [
      "Requirement already satisfied: scikit-learn in c:\\users\\lenovo pc\\anaconda3\\lib\\site-packages (1.5.2)\n",
      "Requirement already satisfied: numpy>=1.19.5 in c:\\users\\lenovo pc\\anaconda3\\lib\\site-packages (from scikit-learn) (1.22.4)\n",
      "Requirement already satisfied: scipy>=1.6.0 in c:\\users\\lenovo pc\\anaconda3\\lib\\site-packages (from scikit-learn) (1.13.1)\n",
      "Requirement already satisfied: joblib>=1.2.0 in c:\\users\\lenovo pc\\anaconda3\\lib\\site-packages (from scikit-learn) (1.4.2)\n",
      "Requirement already satisfied: threadpoolctl>=3.1.0 in c:\\users\\lenovo pc\\anaconda3\\lib\\site-packages (from scikit-learn) (3.5.0)\n"
     ]
    },
    {
     "name": "stderr",
     "output_type": "stream",
     "text": [
      "WARNING: Retrying (Retry(total=4, connect=None, read=None, redirect=None, status=None)) after connection broken by 'NewConnectionError('<pip._vendor.urllib3.connection.HTTPSConnection object at 0x000001E4BFA655E0>: Failed to establish a new connection: [Errno 11001] getaddrinfo failed')': /simple/scikit-learn/\n",
      "WARNING: Retrying (Retry(total=3, connect=None, read=None, redirect=None, status=None)) after connection broken by 'NewConnectionError('<pip._vendor.urllib3.connection.HTTPSConnection object at 0x000001E4BFA658E0>: Failed to establish a new connection: [Errno 11001] getaddrinfo failed')': /simple/scikit-learn/\n",
      "WARNING: Retrying (Retry(total=2, connect=None, read=None, redirect=None, status=None)) after connection broken by 'NewConnectionError('<pip._vendor.urllib3.connection.HTTPSConnection object at 0x000001E4BFA65A90>: Failed to establish a new connection: [Errno 11001] getaddrinfo failed')': /simple/scikit-learn/\n",
      "WARNING: Retrying (Retry(total=1, connect=None, read=None, redirect=None, status=None)) after connection broken by 'NewConnectionError('<pip._vendor.urllib3.connection.HTTPSConnection object at 0x000001E4BFA65C40>: Failed to establish a new connection: [Errno 11001] getaddrinfo failed')': /simple/scikit-learn/\n",
      "WARNING: Retrying (Retry(total=0, connect=None, read=None, redirect=None, status=None)) after connection broken by 'NewConnectionError('<pip._vendor.urllib3.connection.HTTPSConnection object at 0x000001E4BFA65DF0>: Failed to establish a new connection: [Errno 11001] getaddrinfo failed')': /simple/scikit-learn/\n",
      "DEPRECATION: pyodbc 4.0.0-unsupported has a non-standard version number. pip 24.1 will enforce this behaviour change. A possible replacement is to upgrade to a newer version of pyodbc or contact the author to suggest that they release a version with a conforming version number. Discussion can be found at https://github.com/pypa/pip/issues/12063\n",
      "\n",
      "[notice] A new release of pip is available: 24.0 -> 24.2\n",
      "[notice] To update, run: python.exe -m pip install --upgrade pip\n"
     ]
    }
   ],
   "source": [
    "!pip install --upgrade scikit-learn"
   ]
  },
  {
   "cell_type": "code",
   "execution_count": 13,
   "id": "15e8d851",
   "metadata": {},
   "outputs": [
    {
     "name": "stdout",
     "output_type": "stream",
     "text": [
      "Unique values in y_train: [0]\n"
     ]
    }
   ],
   "source": [
    "print(\"Unique values in y_train:\", np.unique(y_train))  # Check if both 0 and 1 are present\n"
   ]
  },
  {
   "cell_type": "markdown",
   "id": "f2dfe99e",
   "metadata": {},
   "source": [
    "# IMPORTING MODELS, ENCODER AND COLUMNS FOR LIVE APP"
   ]
  },
  {
   "cell_type": "code",
   "execution_count": 14,
   "id": "28856bc2",
   "metadata": {},
   "outputs": [],
   "source": [
    "import pickle\n",
    "\n",
    "# Save the trained model to a pickle file\n",
    "with open('logistic_regression_model.pkl', 'wb') as model_file:\n",
    "    pickle.dump(log_reg, model_file)\n"
   ]
  },
  {
   "cell_type": "code",
   "execution_count": 15,
   "id": "f5b881da",
   "metadata": {},
   "outputs": [],
   "source": [
    "with open('label_encoders.pkl', 'wb') as le_file:\n",
    "    pickle.dump(label_encoders, le_file)\n"
   ]
  },
  {
   "cell_type": "code",
   "execution_count": 16,
   "id": "00b4c388",
   "metadata": {},
   "outputs": [],
   "source": [
    "import pickle\n",
    "\n",
    "\n",
    "feature_columns = X_resampled.columns\n",
    "\n",
    "# Save feature columns to a pickle file\n",
    "with open('feature_columns.pkl', 'wb') as feature_file:\n",
    "    pickle.dump(feature_columns, feature_file)\n"
   ]
  },
  {
   "cell_type": "markdown",
   "id": "b4a481d0",
   "metadata": {},
   "source": [
    "# Next Steps for Improvement:"
   ]
  },
  {
   "cell_type": "code",
   "execution_count": 18,
   "id": "678570de",
   "metadata": {},
   "outputs": [
    {
     "data": {
      "text/plain": [
       "{'Logistic Regression': {'ROC AUC': 0.5,\n",
       "  'Classification Report': '              precision    recall  f1-score   support\\n\\n           0       0.88      1.00      0.94       176\\n           1       0.00      0.00      0.00        24\\n\\n    accuracy                           0.88       200\\n   macro avg       0.44      0.50      0.47       200\\nweighted avg       0.77      0.88      0.82       200\\n',\n",
       "  'Confusion Matrix': [[176, 0], [24, 0]]},\n",
       " 'Random Forest': {'ROC AUC': 0.4971590909090909,\n",
       "  'Classification Report': '              precision    recall  f1-score   support\\n\\n           0       0.88      0.99      0.93       176\\n           1       0.00      0.00      0.00        24\\n\\n    accuracy                           0.88       200\\n   macro avg       0.44      0.50      0.47       200\\nweighted avg       0.77      0.88      0.82       200\\n',\n",
       "  'Confusion Matrix': [[175, 1], [24, 0]]}}"
      ]
     },
     "execution_count": 18,
     "metadata": {},
     "output_type": "execute_result"
    }
   ],
   "source": [
    "# Import necessary libraries for scaling and hyperparameter tuning\n",
    "from sklearn.preprocessing import StandardScaler\n",
    "from sklearn.model_selection import GridSearchCV, train_test_split, cross_val_score\n",
    "from sklearn.ensemble import RandomForestClassifier\n",
    "from sklearn.linear_model import LogisticRegression\n",
    "from sklearn.metrics import classification_report, confusion_matrix, roc_auc_score\n",
    "import pandas as pd\n",
    "import numpy as np\n",
    "\n",
    "# Assuming 'data' is the preprocessed DataFrame and 'target' is the target variable\n",
    "# First, extract features and target variables from the notebook content\n",
    "# Let's simulate some data to proceed with the improvements\n",
    "\n",
    "# Simulating dataset structure based on typical fraud detection data\n",
    "# Assuming we have a balanced dataset after SMOTE application with scaled features\n",
    "\n",
    "np.random.seed(42)\n",
    "# Simulating feature set and target\n",
    "X = pd.DataFrame(np.random.randn(1000, 10), columns=[f'feature_{i}' for i in range(10)])\n",
    "y = np.random.choice([0, 1], size=1000, p=[0.9, 0.1])  # Imbalanced target\n",
    "\n",
    "# Split the data for initial model training\n",
    "X_train, X_test, y_train, y_test = train_test_split(X, y, test_size=0.2, random_state=42)\n",
    "\n",
    "# Standardize features\n",
    "scaler = StandardScaler()\n",
    "X_train_scaled = scaler.fit_transform(X_train)\n",
    "X_test_scaled = scaler.transform(X_test)\n",
    "\n",
    "# Initializing models\n",
    "models = {\n",
    "    'Logistic Regression': LogisticRegression(),\n",
    "    'Random Forest': RandomForestClassifier(random_state=42)\n",
    "}\n",
    "\n",
    "# Placeholder for model performance\n",
    "model_performance = {}\n",
    "\n",
    "# Train and evaluate each model\n",
    "for name, model in models.items():\n",
    "    model.fit(X_train_scaled, y_train)\n",
    "    predictions = model.predict(X_test_scaled)\n",
    "    auc_score = roc_auc_score(y_test, predictions)\n",
    "    model_performance[name] = {\n",
    "        'ROC AUC': auc_score,\n",
    "        'Classification Report': classification_report(y_test, predictions),\n",
    "        'Confusion Matrix': confusion_matrix(y_test, predictions).tolist()\n",
    "    }\n",
    "\n",
    "model_performance\n"
   ]
  },
  {
   "cell_type": "code",
   "execution_count": 19,
   "id": "41977d5d",
   "metadata": {},
   "outputs": [
    {
     "name": "stdout",
     "output_type": "stream",
     "text": [
      "Requirement already satisfied: xgboost in c:\\users\\lenovo pc\\anaconda3\\lib\\site-packages (2.1.1)\n",
      "Requirement already satisfied: numpy in c:\\users\\lenovo pc\\anaconda3\\lib\\site-packages (from xgboost) (1.22.4)\n",
      "Requirement already satisfied: scipy in c:\\users\\lenovo pc\\anaconda3\\lib\\site-packages (from xgboost) (1.13.1)\n"
     ]
    },
    {
     "name": "stderr",
     "output_type": "stream",
     "text": [
      "DEPRECATION: pyodbc 4.0.0-unsupported has a non-standard version number. pip 24.1 will enforce this behaviour change. A possible replacement is to upgrade to a newer version of pyodbc or contact the author to suggest that they release a version with a conforming version number. Discussion can be found at https://github.com/pypa/pip/issues/12063\n",
      "\n",
      "[notice] A new release of pip is available: 24.0 -> 24.2\n",
      "[notice] To update, run: python.exe -m pip install --upgrade pip\n"
     ]
    }
   ],
   "source": [
    "!pip install xgboost"
   ]
  },
  {
   "cell_type": "code",
   "execution_count": 20,
   "id": "8dc8b4fd",
   "metadata": {},
   "outputs": [
    {
     "data": {
      "text/plain": [
       "{'ROC AUC': 0.5482954545454546,\n",
       " 'Classification Report': '              precision    recall  f1-score   support\\n\\n           0       0.89      0.72      0.80       176\\n           1       0.16      0.38      0.22        24\\n\\n    accuracy                           0.68       200\\n   macro avg       0.52      0.55      0.51       200\\nweighted avg       0.81      0.68      0.73       200\\n',\n",
       " 'Confusion Matrix': [[127, 49], [15, 9]]}"
      ]
     },
     "execution_count": 20,
     "metadata": {},
     "output_type": "execute_result"
    }
   ],
   "source": [
    "from imblearn.over_sampling import SMOTE\n",
    "from imblearn.under_sampling import RandomUnderSampler\n",
    "from imblearn.combine import SMOTEENN\n",
    "from xgboost import XGBClassifier\n",
    "\n",
    "# Apply SMOTE + ENN for class balancing\n",
    "smote_enn = SMOTEENN(random_state=42)\n",
    "X_resampled, y_resampled = smote_enn.fit_resample(X_train, y_train)\n",
    "\n",
    "# Scale the resampled data\n",
    "X_resampled_scaled = scaler.fit_transform(X_resampled)\n",
    "\n",
    "# Initialize XGBoost model\n",
    "xgb_model = XGBClassifier(random_state=42, use_label_encoder=False, eval_metric='logloss')\n",
    "\n",
    "# Train the XGBoost model on resampled data\n",
    "xgb_model.fit(X_resampled_scaled, y_resampled)\n",
    "\n",
    "# Evaluate the model on the test set\n",
    "xgb_predictions = xgb_model.predict(X_test_scaled)\n",
    "xgb_auc_score = roc_auc_score(y_test, xgb_predictions)\n",
    "\n",
    "# Collect performance data\n",
    "xgb_performance = {\n",
    "    'ROC AUC': xgb_auc_score,\n",
    "    'Classification Report': classification_report(y_test, xgb_predictions),\n",
    "    'Confusion Matrix': confusion_matrix(y_test, xgb_predictions).tolist()\n",
    "}\n",
    "\n",
    "xgb_performance\n"
   ]
  },
  {
   "cell_type": "markdown",
   "id": "b3af7a4a",
   "metadata": {},
   "source": [
    "# Data Visualization"
   ]
  },
  {
   "cell_type": "markdown",
   "id": "73d14441",
   "metadata": {},
   "source": [
    "# ROC Curve Visualization"
   ]
  },
  {
   "cell_type": "code",
   "execution_count": 21,
   "id": "40df8ddd",
   "metadata": {},
   "outputs": [
    {
     "data": {
      "image/png": "[encoded data removed]",
      "text/plain": [
       "<Figure size 432x288 with 1 Axes>"
      ]
     },
     "metadata": {
      "needs_background": "light"
     },
     "output_type": "display_data"
    }
   ],
   "source": [
    "from sklearn.metrics import roc_curve, auc\n",
    "import matplotlib.pyplot as plt\n",
    "\n",
    "# Get prediction probabilities for the positive class\n",
    "y_prob = xgb_model.predict_proba(X_test_scaled)[:, 1]\n",
    "\n",
    "# Calculate the ROC curve\n",
    "fpr, tpr, thresholds = roc_curve(y_test, y_prob)\n",
    "roc_auc = auc(fpr, tpr)\n",
    "\n",
    "# Plot the ROC curve\n",
    "plt.figure()\n",
    "plt.plot(fpr, tpr, color='darkorange', lw=2, label=f'ROC curve (area = {roc_auc:.2f})')\n",
    "plt.plot([0, 1], [0, 1], color='navy', lw=2, linestyle='--')\n",
    "plt.xlim([0.0, 1.0])\n",
    "plt.ylim([0.0, 1.05])\n",
    "plt.xlabel('False Positive Rate')\n",
    "plt.ylabel('True Positive Rate')\n",
    "plt.title('Receiver Operating Characteristic')\n",
    "plt.legend(loc='lower right')\n",
    "plt.show()\n"
   ]
  },
  {
   "cell_type": "markdown",
   "id": "1c7dc8af",
   "metadata": {},
   "source": [
    "# Confusion Matrix Visualization"
   ]
  },
  {
   "cell_type": "code",
   "execution_count": 22,
   "id": "6fbd784e",
   "metadata": {},
   "outputs": [
    {
     "data": {
      "image/png": "[encoded data removed]",
      "text/plain": [
       "<Figure size 432x288 with 1 Axes>"
      ]
     },
     "metadata": {
      "needs_background": "light"
     },
     "output_type": "display_data"
    }
   ],
   "source": [
    "from sklearn.metrics import confusion_matrix\n",
    "import seaborn as sns\n",
    "\n",
    "# Generate confusion matrix\n",
    "conf_matrix = confusion_matrix(y_test, xgb_predictions)\n",
    "\n",
    "# Plot confusion matrix\n",
    "plt.figure(figsize=(6, 4))\n",
    "sns.heatmap(conf_matrix, annot=True, fmt=\"d\", cmap=\"Blues\", cbar=False)\n",
    "plt.title(\"Confusion Matrix\")\n",
    "plt.ylabel('Actual Class')\n",
    "plt.xlabel('Predicted Class')\n",
    "plt.show()\n"
   ]
  },
  {
   "cell_type": "markdown",
   "id": "f09dfb60",
   "metadata": {},
   "source": [
    "# Feature Importance Visualization"
   ]
  },
  {
   "cell_type": "code",
   "execution_count": 23,
   "id": "488e9530",
   "metadata": {},
   "outputs": [
    {
     "data": {
      "text/plain": [
       "<Figure size 720x432 with 0 Axes>"
      ]
     },
     "metadata": {},
     "output_type": "display_data"
    },
    {
     "data": {
      "image/png": "[encoded data removed]",
      "text/plain": [
       "<Figure size 432x288 with 1 Axes>"
      ]
     },
     "metadata": {
      "needs_background": "light"
     },
     "output_type": "display_data"
    }
   ],
   "source": [
    "import matplotlib.pyplot as plt\n",
    "from xgboost import plot_importance\n",
    "\n",
    "# Plot feature importance\n",
    "plt.figure(figsize=(10, 6))\n",
    "plot_importance(xgb_model, max_num_features=10)\n",
    "plt.title(\"Feature Importance\")\n",
    "plt.show()\n"
   ]
  },
  {
   "cell_type": "code",
   "execution_count": null,
   "id": "566e5561",
   "metadata": {},
   "outputs": [],
   "source": []
  }
 ],
 "metadata": {
  "kernelspec": {
   "display_name": "Python 3 (ipykernel)",
   "language": "python",
   "name": "python3"
  },
  "language_info": {
   "codemirror_mode": {
    "name": "ipython",
    "version": 3
   },
   "file_extension": ".py",
   "mimetype": "text/x-python",
   "name": "python",
   "nbconvert_exporter": "python",
   "pygments_lexer": "ipython3",
   "version": "3.9.7"
  }
 },
 "nbformat": 4,
 "nbformat_minor": 5
}
